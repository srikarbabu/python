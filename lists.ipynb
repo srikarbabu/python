{
  "nbformat": 4,
  "nbformat_minor": 0,
  "metadata": {
    "colab": {
      "name": " lists",
      "provenance": [],
      "authorship_tag": "ABX9TyOEHDD+mJtt+XCuTuozqes9",
      "include_colab_link": true
    },
    "kernelspec": {
      "name": "python3",
      "display_name": "Python 3"
    },
    "language_info": {
      "name": "python"
    }
  },
  "cells": [
    {
      "cell_type": "markdown",
      "metadata": {
        "id": "view-in-github",
        "colab_type": "text"
      },
      "source": [
        "<a href=\"https://colab.research.google.com/github/srikarbabu/python/blob/main/lists.ipynb\" target=\"_parent\"><img src=\"https://colab.research.google.com/assets/colab-badge.svg\" alt=\"Open In Colab\"/></a>"
      ]
    },
    {
      "cell_type": "code",
      "execution_count": null,
      "metadata": {
        "id": "674gDTkIS2KZ"
      },
      "outputs": [],
      "source": [
        ""
      ]
    },
    {
      "cell_type": "markdown",
      "source": [
        "inserting elements into the list\n"
      ],
      "metadata": {
        "id": "rDjTp1bsUCdg"
      }
    },
    {
      "cell_type": "code",
      "source": [
        "cars=[\"audi\",\"bmw\",\"range rover\",\"jagvar\"]\n",
        "print(cars)\n",
        "print(type(cars))\n",
        "cars.append(\"rolls royce\")\n",
        "print(cars)\n",
        "cars.insert(3,\"benz\")\n",
        "print(cars)\n",
        "print(cars[3])\n",
        "print(cars[-2])"
      ],
      "metadata": {
        "colab": {
          "base_uri": "https://localhost:8080/"
        },
        "id": "wcNDp3tAUIE4",
        "outputId": "896a4819-252e-4131-8044-2fed4a2a952d"
      },
      "execution_count": 12,
      "outputs": [
        {
          "output_type": "stream",
          "name": "stdout",
          "text": [
            "['audi', 'bmw', 'range rover', 'jagvar']\n",
            "<class 'list'>\n",
            "['audi', 'bmw', 'range rover', 'jagvar', 'rolls royce']\n",
            "['audi', 'bmw', 'range rover', 'benz', 'jagvar', 'rolls royce']\n",
            "benz\n",
            "jagvar\n"
          ]
        }
      ]
    },
    {
      "cell_type": "markdown",
      "source": [
        ""
      ],
      "metadata": {
        "id": "DaC_-mPhYCi_"
      }
    },
    {
      "cell_type": "code",
      "source": [
        "#deleting elements in the list"
      ],
      "metadata": {
        "id": "D0y4coDGXCGB"
      },
      "execution_count": null,
      "outputs": []
    },
    {
      "cell_type": "code",
      "source": [
        "cars.pop()\n",
        "print(cars)\n",
        "#cars.pop(1)\n",
        "#print(fruits)\n",
        "cars=[\"audi\",\"bmw\",\"range rover\",\"jagvar\"]\n",
        "cars.remove(\"jagvar\")\n",
        "del cars[1]\n"
      ],
      "metadata": {
        "colab": {
          "base_uri": "https://localhost:8080/"
        },
        "id": "UbVrFPDqXOiv",
        "outputId": "585c354a-e5b3-4d49-8bf6-e56f68f18325"
      },
      "execution_count": 19,
      "outputs": [
        {
          "output_type": "stream",
          "name": "stdout",
          "text": [
            "['audi']\n"
          ]
        }
      ]
    },
    {
      "cell_type": "code",
      "source": [
        "cars=[\"audi\",\"benz\",\"range rover\",\"rolls royce\",\"jagvar\"]\n",
        "print(cars[0:3])\n",
        "print(cars[2:])"
      ],
      "metadata": {
        "colab": {
          "base_uri": "https://localhost:8080/"
        },
        "id": "sP6-HZ-faxAi",
        "outputId": "378c7912-58bb-4fa6-cbcf-1106320e4eee"
      },
      "execution_count": 29,
      "outputs": [
        {
          "output_type": "stream",
          "name": "stdout",
          "text": [
            "['audi', 'benz', 'range rover']\n",
            "['range rover', 'rolls royce', 'jagvar']\n"
          ]
        }
      ]
    }
  ]
}